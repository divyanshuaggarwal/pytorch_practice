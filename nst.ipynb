{
 "metadata": {
  "language_info": {
   "codemirror_mode": {
    "name": "ipython",
    "version": 3
   },
   "file_extension": ".py",
   "mimetype": "text/x-python",
   "name": "python",
   "nbconvert_exporter": "python",
   "pygments_lexer": "ipython3",
   "version": "3.8.0-final"
  },
  "orig_nbformat": 2,
  "kernelspec": {
   "name": "python3",
   "display_name": "Python 3"
  }
 },
 "nbformat": 4,
 "nbformat_minor": 2,
 "cells": [
  {
   "cell_type": "code",
   "execution_count": 1,
   "metadata": {},
   "outputs": [],
   "source": [
    "import torch\n",
    "import torch.nn as nn\n",
    "import torch.optim as optim\n",
    "from PIL import Image\n",
    "import torchvision.transforms as transforms\n",
    "import torchvision.models as models\n",
    "from torchvision.utils import save_image\n",
    "\n",
    "import queue\n",
    "import torchvision.transforms.functional as TF\n",
    "\n",
    "import pytorch_lightning as pl\n"
   ]
  },
  {
   "cell_type": "code",
   "execution_count": 2,
   "metadata": {},
   "outputs": [],
   "source": [
    "total_steps = 6000\n",
    "learning_rate = 0.001\n",
    "alpha = 1\n",
    "beta = 0.01\n"
   ]
  },
  {
   "cell_type": "code",
   "execution_count": 3,
   "metadata": {},
   "outputs": [],
   "source": [
    "class VGG(nn.Module):\n",
    "    def __init__(self):\n",
    "        super(VGG, self).__init__()\n",
    "        # The first number x in convx_y gets added by 1 after it has gone\n",
    "        # through a maxpool, and the second y if we have several conv layers\n",
    "        # in between a max pool. These strings (0, 5, 10, ..) then correspond\n",
    "        # to conv1_1, conv2_1, conv3_1, conv4_1, conv5_1 mentioned in NST paper\n",
    "        self.chosen_features = [\"0\", \"5\", \"10\", \"19\", \"28\"]\n",
    "\n",
    "        # We don't need to run anything further than conv5_1 (the 28th module in vgg)\n",
    "        # Since remember, we dont actually care about the output of VGG: the only thing\n",
    "        # that is modified is the generated image (i.e, the input).\n",
    "        self.model = models.vgg19(pretrained=True).features[:29]\n",
    "\n",
    "    def forward(self, x):\n",
    "        # Store relevant features\n",
    "        features = []\n",
    "\n",
    "        # Go through each layer in model, if the layer is in the chosen_features,\n",
    "        # store it in features. At the end we'll just return all the activations\n",
    "        # for the specific layers we have in chosen_features\n",
    "        for layer_num, layer in enumerate(self.model):\n",
    "            x = layer(x)\n",
    "\n",
    "            if str(layer_num) in self.chosen_features:\n",
    "                features.append(x)\n",
    "\n",
    "        return features"
   ]
  },
  {
   "cell_type": "code",
   "execution_count": 5,
   "metadata": {},
   "outputs": [],
   "source": [
    "device = torch.device(\"cuda\" if torch.cuda.is_available() else \"cpu\")\n",
    "imsize = 356"
   ]
  },
  {
   "cell_type": "code",
   "execution_count": 6,
   "metadata": {},
   "outputs": [],
   "source": [
    "def load_image(image_name):\n",
    "    loader = transforms.Compose(\n",
    "    [\n",
    "        transforms.Resize((imsize, imsize)),\n",
    "        transforms.ToTensor(),\n",
    "        # transforms.Normalize(mean=[0.485, 0.456, 0.406], std=[0.229, 0.224, 0.225]),\n",
    "    ]\n",
    ")\n",
    "    image = Image.open(image_name)\n",
    "    image = loader(image).unsqueeze(0)\n",
    "    return image.to(device)\n",
    "\n",
    "\n"
   ]
  },
  {
   "cell_type": "code",
   "execution_count": 9,
   "metadata": {},
   "outputs": [],
   "source": [
    "original_img = load_image(\"annahathaway.png\")\n",
    "style_img = load_image(\"style.jpg\")\n",
    "\n",
    "# initialized generated as white noise or clone of original image.\n",
    "# Clone seemed to work better for me.\n",
    "\n",
    "# generated = torch.randn(original_img.data.shape, device=device, requires_grad=True)\n",
    "generated = original_img.clone().requires_grad_(True)\n",
    "model = VGG().to(device).eval()\n",
    "\n",
    "# Hyperparameters\n",
    "total_steps = 6000\n",
    "learning_rate = 0.001\n",
    "alpha = 1\n",
    "beta = 0.01\n",
    "optimizer = optim.Adam([generated], lr=learning_rate)"
   ]
  },
  {
   "cell_type": "code",
   "execution_count": 13,
   "metadata": {},
   "outputs": [
    {
     "output_type": "stream",
     "name": "stderr",
     "text": [
      "  0%|          | 1/6000 [00:00<38:01,  2.63it/s]tensor(43358.1836, device='cuda:0', grad_fn=<AddBackward0>)\n",
      "  3%|▎         | 201/6000 [01:14<49:47,  1.94it/s]tensor(29456.4277, device='cuda:0', grad_fn=<AddBackward0>)\n",
      "  7%|▋         | 401/6000 [02:30<59:27,  1.57it/s]tensor(23765.9375, device='cuda:0', grad_fn=<AddBackward0>)\n",
      " 10%|█         | 601/6000 [04:00<55:16,  1.63it/s]tensor(20233.1484, device='cuda:0', grad_fn=<AddBackward0>)\n",
      " 13%|█▎        | 801/6000 [05:28<52:54,  1.64it/s]tensor(17632.5430, device='cuda:0', grad_fn=<AddBackward0>)\n",
      " 17%|█▋        | 1001/6000 [06:55<50:38,  1.65it/s]tensor(15532.9023, device='cuda:0', grad_fn=<AddBackward0>)\n",
      " 20%|██        | 1201/6000 [08:22<48:27,  1.65it/s]tensor(13761.8223, device='cuda:0', grad_fn=<AddBackward0>)\n",
      " 23%|██▎       | 1401/6000 [09:50<46:33,  1.65it/s]tensor(12239.6904, device='cuda:0', grad_fn=<AddBackward0>)\n",
      " 27%|██▋       | 1601/6000 [11:17<44:34,  1.64it/s]tensor(10917.4482, device='cuda:0', grad_fn=<AddBackward0>)\n",
      " 30%|███       | 1801/6000 [12:45<42:34,  1.64it/s]tensor(9771.3975, device='cuda:0', grad_fn=<AddBackward0>)\n",
      " 33%|███▎      | 2001/6000 [14:12<40:35,  1.64it/s]tensor(8790.3613, device='cuda:0', grad_fn=<AddBackward0>)\n",
      " 37%|███▋      | 2201/6000 [15:40<38:37,  1.64it/s]tensor(7949.8950, device='cuda:0', grad_fn=<AddBackward0>)\n",
      " 40%|████      | 2401/6000 [17:08<36:54,  1.63it/s]tensor(7230.8608, device='cuda:0', grad_fn=<AddBackward0>)\n",
      " 43%|████▎     | 2601/6000 [18:35<34:19,  1.65it/s]tensor(6610.2305, device='cuda:0', grad_fn=<AddBackward0>)\n",
      " 47%|████▋     | 2801/6000 [20:02<32:09,  1.66it/s]tensor(6070.6104, device='cuda:0', grad_fn=<AddBackward0>)\n",
      " 50%|█████     | 3001/6000 [21:29<30:22,  1.65it/s]tensor(5600.2729, device='cuda:0', grad_fn=<AddBackward0>)\n",
      " 53%|█████▎    | 3201/6000 [22:56<28:14,  1.65it/s]tensor(5190.1562, device='cuda:0', grad_fn=<AddBackward0>)\n",
      " 57%|█████▋    | 3401/6000 [24:08<22:15,  1.95it/s]tensor(4829.2812, device='cuda:0', grad_fn=<AddBackward0>)\n",
      " 60%|██████    | 3601/6000 [25:22<20:50,  1.92it/s]tensor(4510.1445, device='cuda:0', grad_fn=<AddBackward0>)\n",
      " 63%|██████▎   | 3801/6000 [26:36<18:59,  1.93it/s]tensor(4228.8755, device='cuda:0', grad_fn=<AddBackward0>)\n",
      " 67%|██████▋   | 4002/6000 [27:58<13:17,  2.51it/s]tensor(3981.3550, device='cuda:0', grad_fn=<AddBackward0>)\n",
      " 70%|███████   | 4201/6000 [29:12<15:29,  1.94it/s]tensor(3761.6748, device='cuda:0', grad_fn=<AddBackward0>)\n",
      " 73%|███████▎  | 4401/6000 [30:26<13:54,  1.92it/s]tensor(3566.6262, device='cuda:0', grad_fn=<AddBackward0>)\n",
      " 77%|███████▋  | 4601/6000 [31:41<12:09,  1.92it/s]tensor(3395.4309, device='cuda:0', grad_fn=<AddBackward0>)\n",
      " 80%|████████  | 4801/6000 [32:56<10:29,  1.91it/s]tensor(3244.0693, device='cuda:0', grad_fn=<AddBackward0>)\n",
      " 83%|████████▎ | 5001/6000 [34:11<08:46,  1.90it/s]tensor(3107.7983, device='cuda:0', grad_fn=<AddBackward0>)\n",
      " 87%|████████▋ | 5201/6000 [37:00<06:58,  1.91it/s]tensor(2985.7380, device='cuda:0', grad_fn=<AddBackward0>)\n",
      " 90%|█████████ | 5401/6000 [38:15<05:15,  1.90it/s]tensor(2876.0452, device='cuda:0', grad_fn=<AddBackward0>)\n",
      " 93%|█████████▎| 5601/6000 [39:31<03:30,  1.90it/s]tensor(2777.8667, device='cuda:0', grad_fn=<AddBackward0>)\n",
      " 97%|█████████▋| 5801/6000 [41:54<04:25,  1.34s/it]tensor(2690.2637, device='cuda:0', grad_fn=<AddBackward0>)\n"
     ]
    }
   ],
   "source": [
    "from tqdm import tqdm \n",
    "\n",
    "for step in tqdm(range(total_steps), leave=False):\n",
    "    # Obtain the convolution features in specifically chosen layers\n",
    "    generated_features = model(generated)\n",
    "    original_img_features = model(original_img)\n",
    "    style_features = model(style_img)\n",
    "\n",
    "    # Loss is 0 initially\n",
    "    style_loss = original_loss = 0\n",
    "\n",
    "    # iterate through all the features for the chosen layers\n",
    "    for gen_feature, orig_feature, style_feature in zip(\n",
    "        generated_features, original_img_features, style_features\n",
    "    ):\n",
    "\n",
    "        # batch_size will just be 1\n",
    "        batch_size, channel, height, width = gen_feature.shape\n",
    "        original_loss += torch.mean((gen_feature - orig_feature) ** 2)\n",
    "        # Compute Gram Matrix of generated\n",
    "        G = gen_feature.view(channel, height * width).mm(\n",
    "            gen_feature.view(channel, height * width).t()\n",
    "        )\n",
    "        # Compute Gram Matrix of Style\n",
    "        A = style_feature.view(channel, height * width).mm(\n",
    "            style_feature.view(channel, height * width).t()\n",
    "        )\n",
    "        style_loss += torch.mean((G - A) ** 2)\n",
    "\n",
    "    total_loss = alpha * original_loss + beta * style_loss\n",
    "    optimizer.zero_grad()\n",
    "    total_loss.backward()\n",
    "    optimizer.step()\n",
    "\n",
    "    if step % 200 == 0:\n",
    "        print(total_loss)\n",
    "        save_image(generated, \"generated.png\")"
   ]
  },
  {
   "cell_type": "code",
   "execution_count": null,
   "metadata": {},
   "outputs": [],
   "source": []
  }
 ]
}