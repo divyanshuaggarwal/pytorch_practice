{
 "metadata": {
  "language_info": {
   "codemirror_mode": {
    "name": "ipython",
    "version": 3
   },
   "file_extension": ".py",
   "mimetype": "text/x-python",
   "name": "python",
   "nbconvert_exporter": "python",
   "pygments_lexer": "ipython3",
   "version": "3.8.0-final"
  },
  "orig_nbformat": 2,
  "kernelspec": {
   "name": "python3",
   "display_name": "Python 3"
  }
 },
 "nbformat": 4,
 "nbformat_minor": 2,
 "cells": [
  {
   "cell_type": "code",
   "execution_count": 1,
   "metadata": {},
   "outputs": [],
   "source": [
    "from torchtext.data import Field \n",
    "from torchtext.datasets import IMDB\n",
    "\n",
    "import torch\n",
    "\n",
    "text_field = Field(sequential=True, include_lengths=True, fix_length=200)\n",
    "label_field = Field(sequential=False)\n",
    "\n",
    "\n",
    "train, test = IMDB.splits(text_field, label_field)"
   ]
  },
  {
   "cell_type": "code",
   "execution_count": 2,
   "metadata": {},
   "outputs": [],
   "source": [
    "from torchtext.vocab import FastText\n",
    "\n",
    "text_field.build_vocab(train, vectors=FastText('simple'))\n",
    "label_field.build_vocab(train)"
   ]
  },
  {
   "cell_type": "code",
   "execution_count": 3,
   "metadata": {},
   "outputs": [],
   "source": [
    "from torchtext.data import BucketIterator\n",
    "\n",
    "device = 'cuda' if torch.cuda.is_available() else 'cpu'\n",
    "batch_size = 32\n",
    "\n",
    "train_iter, test_iter = BucketIterator.splits(\n",
    "    (train, test), \n",
    "    batch_size=batch_size, \n",
    "    device=device\n",
    ")"
   ]
  },
  {
   "cell_type": "code",
   "execution_count": 4,
   "metadata": {},
   "outputs": [],
   "source": [
    "from pytorch_lightning.core.lightning import LightningModule\n",
    "from torch import nn\n",
    "\n",
    "class classifier(LightningModule):\n",
    "    def __init__(self, embedding, lstm_input_size=300, lstm_hidden_size=100, output_size=3):\n",
    "        super().__init__()\n",
    "        self.embedding = embedding\n",
    "        self.lstm = nn.LSTM(lstm_input_size, lstm_hidden_size)\n",
    "        self.lin = nn.Linear(lstm_hidden_size, output_size)\n",
    "        self.loss_function = nn.CrossEntropyLoss()\n",
    "    \n",
    "    def forward(self, X: torch.Tensor):\n",
    "        # need to be permuted because by default X is batch first\n",
    "        x = self.embedding[X].to(self.device).permute(1, 0, 2)\n",
    "        x, _ = self.lstm(x)\n",
    "        x = torch.nn.functional.elu(x.permute(1, 0, 2))\n",
    "        x = self.lin(x)\n",
    "        x = x.sum(dim=1)\n",
    "        return x\n",
    "    \n",
    "    def training_step(self, batch, batch_idx):\n",
    "        x, y = batch.text[0].T, batch.label\n",
    "        y_hat = self(x)\n",
    "        loss = self.loss_function(y_hat, y)\n",
    "        return dict(\n",
    "            loss=loss,\n",
    "            log=dict(\n",
    "                train_loss=loss\n",
    "            )\n",
    "        )\n",
    "    \n",
    "    def configure_optimizers(self):\n",
    "        return torch.optim.Adam(self.parameters(), lr=0.01)\n",
    "    \n",
    "    def train_dataloader(self):\n",
    "        return train_iter\n",
    "    \n",
    "    def test_step(self, batch, batch_idx):\n",
    "        x, y = batch.text[0].T, batch.label\n",
    "        y_hat = self(x)\n",
    "        loss = self.loss_function(y_hat, y)\n",
    "        return dict(\n",
    "            test_loss=loss,\n",
    "            log=dict(\n",
    "                test_loss=loss\n",
    "            )\n",
    "        )\n",
    "    \n",
    "    def test_epoch_end(self, outputs):\n",
    "        avg_loss = torch.stack([x['test_loss'] for x in outputs]).mean()\n",
    "        tensorboard_logs = dict(\n",
    "            test_loss=avg_loss\n",
    "        )\n",
    "        return dict(\n",
    "            avg_test_loss=avg_loss, \n",
    "            log=tensorboard_logs\n",
    "        )\n",
    "    \n",
    "    def test_dataloader(self):\n",
    "        return test_iter"
   ]
  },
  {
   "cell_type": "code",
   "execution_count": 8,
   "metadata": {},
   "outputs": [
    {
     "output_type": "stream",
     "name": "stderr",
     "text": [
      "GPU available: True, used: True\n",
      "TPU available: False, using: 0 TPU cores\n",
      "LOCAL_RANK: 0 - CUDA_VISIBLE_DEVICES: [0]\n",
      "\n",
      "  | Name          | Type             | Params\n",
      "---------------------------------------------------\n",
      "0 | lstm          | LSTM             | 160 K \n",
      "1 | lin           | Linear           | 303   \n",
      "2 | loss_function | CrossEntropyLoss | 0     \n",
      "Epoch 9: 100%|██████████| 782/782 [00:49<00:00, 15.65it/s, loss=0.347, v_num=0]\n"
     ]
    },
    {
     "output_type": "execute_result",
     "data": {
      "text/plain": [
       "1"
      ]
     },
     "metadata": {},
     "execution_count": 8
    }
   ],
   "source": [
    "from pytorch_lightning import Trainer\n",
    "from pytorch_lightning.loggers import TensorBoardLogger\n",
    "model = classifier(text_field.vocab.vectors)\n",
    "logger = TensorBoardLogger('tb_logs', name='text_classification')\n",
    "trainer = Trainer(\n",
    "    gpus=1, \n",
    "    logger=logger,\n",
    "    max_epochs=10\n",
    ")\n",
    "trainer.fit(model)"
   ]
  },
  {
   "cell_type": "code",
   "execution_count": 9,
   "metadata": {},
   "outputs": [
    {
     "output_type": "stream",
     "name": "stdout",
     "text": [
      "Testing: 100%|█████████▉| 779/782 [00:24<00:00, 30.33it/s]--------------------------------------------------------------------------------\n",
      "DATALOADER:0 TEST RESULTS\n",
      "{'avg_test_loss': tensor(0.5879, device='cuda:0'),\n",
      " 'test_loss': tensor(0.5879, device='cuda:0')}\n",
      "--------------------------------------------------------------------------------\n",
      "Testing: 100%|██████████| 782/782 [00:25<00:00, 31.24it/s]\n"
     ]
    },
    {
     "output_type": "execute_result",
     "data": {
      "text/plain": [
       "[{'test_loss': 0.5878623127937317, 'avg_test_loss': 0.5878623127937317}]"
      ]
     },
     "metadata": {},
     "execution_count": 9
    }
   ],
   "source": [
    "trainer.test()\n"
   ]
  },
  {
   "cell_type": "code",
   "execution_count": null,
   "metadata": {},
   "outputs": [],
   "source": []
  }
 ]
}